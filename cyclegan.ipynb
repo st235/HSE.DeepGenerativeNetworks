{
 "cells": [
  {
   "cell_type": "code",
   "execution_count": 1,
   "id": "c5732dac-7e81-4a5d-9ff6-f827510bb717",
   "metadata": {},
   "outputs": [],
   "source": [
    "# 3rd Party dependencies.\n",
    "import os\n",
    "import numpy as np\n",
    "import matplotlib.pyplot as plt\n",
    "import torch\n",
    "import torch.nn as nn\n",
    "import torchvision.transforms.v2 as transforms\n",
    "\n",
    "from torch.utils.data import DataLoader\n",
    "from tqdm import tqdm\n",
    "\n",
    "# 1st Party dependencies.\n",
    "from dataset.facades_dataset import FacadesDataset\n",
    "from cyclegan.generator import Generator\n",
    "from cyclegan.discriminator import Discriminator\n",
    "\n",
    "%matplotlib inline"
   ]
  },
  {
   "cell_type": "code",
   "execution_count": 2,
   "id": "7262c15b-dd0c-41a4-a383-704d1d5a6cfd",
   "metadata": {},
   "outputs": [],
   "source": [
    "# Applying the same transformations as were applied to Pix2Pix train dataset.\n",
    "train_transforms = transforms.Compose([\n",
    "    transforms.ToImage(),\n",
    "    transforms.ToDtype(torch.float32, scale=True),\n",
    "    # Resizing the 256×256 input images to 286×286.\n",
    "    transforms.Resize((286, 286)), \n",
    "    # Randomly cropping back to size 256×256.\n",
    "    transforms.RandomCrop(256),\n",
    "    # Mirroring.\n",
    "    transforms.RandomHorizontalFlip(),\n",
    "])\n",
    "\n",
    "default_transforms = transforms.Compose([\n",
    "    transforms.ToImage(),\n",
    "    transforms.ToDtype(torch.float32, scale=True),\n",
    "])"
   ]
  },
  {
   "cell_type": "code",
   "execution_count": 3,
   "id": "2b1ddd01-29b9-4504-9afb-8922f057a388",
   "metadata": {},
   "outputs": [],
   "source": [
    "facades_train_dataset = FacadesDataset(root_dir='dataset/facades', split='train', transformations=train_transforms)\n",
    "facades_val_dataset = FacadesDataset(root_dir='dataset/facades', split='val', transformations=default_transforms)\n",
    "\n",
    "train_dataloader = DataLoader(facades_train_dataset, batch_size=1, shuffle=True, num_workers=4)\n",
    "val_dataloader = DataLoader(facades_val_dataset, batch_size=1, shuffle=True)"
   ]
  },
  {
   "cell_type": "code",
   "execution_count": 4,
   "id": "9d47c75f-220a-46cd-80f0-b1a3f220f3e2",
   "metadata": {},
   "outputs": [],
   "source": [
    "def train_one_epoch(\n",
    "    data_loader,\n",
    "    generator_x,\n",
    "    discriminator_x,\n",
    "    generator_y,\n",
    "    discriminator_y,\n",
    "    optimiser_generator,\n",
    "    optimiser_discriminator,\n",
    "    l1_loss_func, \n",
    "    mse_loss_func,\n",
    "    lambda_factor,\n",
    "    device):\n",
    "    d_losses = []\n",
    "    g_losses = []\n",
    "    \n",
    "    for y, x in tqdm(data_loader):\n",
    "        y = y.to(device)\n",
    "        x = x.to(device)\n",
    "\n",
    "        fake_x = generator_x(y)\n",
    "        d_x_real = discriminator_x(x)\n",
    "        d_x_fake = discriminator_x(fake_x.detach())\n",
    "        d_x_real_loss = mse_loss_func(d_x_real, torch.ones_like(d_x_real))\n",
    "        d_x_fake_loss = mse_loss_func(d_x_fake, torch.zeros_like(d_x_fake))\n",
    "        d_x_loss = d_x_real_loss + d_x_fake_loss\n",
    "\n",
    "        fake_y = generator_y(x)\n",
    "        d_y_real = discriminator_y(y)\n",
    "        d_y_fake = discriminator_y(fake_y.detach())\n",
    "        d_y_real_loss = mse_loss_func(d_y_real, torch.ones_like(d_y_real))\n",
    "        d_y_fake_loss = mse_loss_func(d_y_fake, torch.zeros_like(d_y_fake))\n",
    "        d_y_loss = d_y_real_loss + d_y_fake_loss\n",
    "\n",
    "        d_loss = (d_x_loss + d_y_loss) / 2\n",
    "\n",
    "        optimiser_discriminator.zero_grad()\n",
    "        d_loss.backward()\n",
    "        optimiser_discriminator.step()\n",
    "\n",
    "        # Adversarial losses.\n",
    "        d_x_fake = discriminator_x(fake_x)\n",
    "        d_y_fake = discriminator_y(fake_y)\n",
    "        loss_g_x = mse_loss_func(d_x_fake, torch.ones_like(d_x_fake))\n",
    "        loss_g_y = mse_loss_func(d_y_fake, torch.ones_like(d_y_fake))\n",
    "\n",
    "        # Cycle losses.\n",
    "        cycle_y = generator_y(fake_x)\n",
    "        cycle_x = generator_x(fake_y)\n",
    "        cycle_y_loss = l1_loss_func(y, cycle_y)\n",
    "        cycle_x_loss = l1_loss_func(x, cycle_x)\n",
    "\n",
    "        # Total generators loss.\n",
    "        g_loss = loss_g_y \\\n",
    "            + loss_g_x \\\n",
    "            + cycle_y_loss * lambda_factor \\\n",
    "            + cycle_x_loss * lambda_factor\n",
    "\n",
    "        optimiser_generator.zero_grad()\n",
    "        g_loss.backward()\n",
    "        optimiser_generator.step()\n",
    "\n",
    "        d_losses.append(d_loss.detach().cpu().item())\n",
    "        g_losses.append(g_loss.detach().cpu().item())\n",
    "\n",
    "    return np.mean(g_losses), np.mean(d_losses)"
   ]
  },
  {
   "cell_type": "code",
   "execution_count": null,
   "id": "7151e283-c396-4b78-8190-261be0f4088a",
   "metadata": {},
   "outputs": [
    {
     "name": "stderr",
     "output_type": "stream",
     "text": [
      "100%|█████████████████████████████████████████████████████████████████████████████████| 400/400 [02:40<00:00,  2.49it/s]\n"
     ]
    },
    {
     "name": "stdout",
     "output_type": "stream",
     "text": [
      "Epoch: 0 generators loss: 3.991837751865387 discriminators loss: 0.4128294543176889\n"
     ]
    },
    {
     "name": "stderr",
     "output_type": "stream",
     "text": [
      "100%|█████████████████████████████████████████████████████████████████████████████████| 400/400 [01:32<00:00,  4.32it/s]\n"
     ]
    },
    {
     "name": "stdout",
     "output_type": "stream",
     "text": [
      "Epoch: 1 generators loss: 2.6924561670422555 discriminators loss: 0.3780030155926943\n"
     ]
    },
    {
     "name": "stderr",
     "output_type": "stream",
     "text": [
      "100%|█████████████████████████████████████████████████████████████████████████████████| 400/400 [02:04<00:00,  3.22it/s]\n"
     ]
    },
    {
     "name": "stdout",
     "output_type": "stream",
     "text": [
      "Epoch: 2 generators loss: 2.5212734150886535 discriminators loss: 0.3613624747470021\n"
     ]
    },
    {
     "name": "stderr",
     "output_type": "stream",
     "text": [
      "100%|█████████████████████████████████████████████████████████████████████████████████| 400/400 [01:32<00:00,  4.31it/s]\n"
     ]
    },
    {
     "name": "stdout",
     "output_type": "stream",
     "text": [
      "Epoch: 3 generators loss: 2.419408208429813 discriminators loss: 0.35256701163947585\n"
     ]
    },
    {
     "name": "stderr",
     "output_type": "stream",
     "text": [
      "100%|█████████████████████████████████████████████████████████████████████████████████| 400/400 [01:35<00:00,  4.20it/s]\n"
     ]
    },
    {
     "name": "stdout",
     "output_type": "stream",
     "text": [
      "Epoch: 4 generators loss: 2.369594935774803 discriminators loss: 0.34824463330209254\n"
     ]
    },
    {
     "name": "stderr",
     "output_type": "stream",
     "text": [
      "100%|█████████████████████████████████████████████████████████████████████████████████| 400/400 [01:37<00:00,  4.09it/s]\n"
     ]
    },
    {
     "name": "stdout",
     "output_type": "stream",
     "text": [
      "Epoch: 5 generators loss: 2.3400556007027626 discriminators loss: 0.34064897563308477\n"
     ]
    },
    {
     "name": "stderr",
     "output_type": "stream",
     "text": [
      "100%|█████████████████████████████████████████████████████████████████████████████████| 400/400 [01:33<00:00,  4.29it/s]\n"
     ]
    },
    {
     "name": "stdout",
     "output_type": "stream",
     "text": [
      "Epoch: 6 generators loss: 2.2930818855762483 discriminators loss: 0.33668723464012146\n"
     ]
    },
    {
     "name": "stderr",
     "output_type": "stream",
     "text": [
      "100%|█████████████████████████████████████████████████████████████████████████████████| 400/400 [01:38<00:00,  4.05it/s]\n"
     ]
    },
    {
     "name": "stdout",
     "output_type": "stream",
     "text": [
      "Epoch: 7 generators loss: 2.266579268872738 discriminators loss: 0.32768425546586516\n"
     ]
    },
    {
     "name": "stderr",
     "output_type": "stream",
     "text": [
      "100%|█████████████████████████████████████████████████████████████████████████████████| 400/400 [01:34<00:00,  4.23it/s]\n"
     ]
    },
    {
     "name": "stdout",
     "output_type": "stream",
     "text": [
      "Epoch: 8 generators loss: 2.265685320496559 discriminators loss: 0.3180054503306746\n"
     ]
    },
    {
     "name": "stderr",
     "output_type": "stream",
     "text": [
      "100%|█████████████████████████████████████████████████████████████████████████████████| 400/400 [01:31<00:00,  4.37it/s]\n"
     ]
    },
    {
     "name": "stdout",
     "output_type": "stream",
     "text": [
      "Epoch: 9 generators loss: 2.229583189189434 discriminators loss: 0.3190692351013422\n"
     ]
    },
    {
     "name": "stderr",
     "output_type": "stream",
     "text": [
      "100%|█████████████████████████████████████████████████████████████████████████████████| 400/400 [01:41<00:00,  3.92it/s]\n"
     ]
    },
    {
     "name": "stdout",
     "output_type": "stream",
     "text": [
      "Epoch: 10 generators loss: 2.2442407846450805 discriminators loss: 0.30863597432151435\n"
     ]
    },
    {
     "name": "stderr",
     "output_type": "stream",
     "text": [
      "100%|█████████████████████████████████████████████████████████████████████████████████| 400/400 [01:35<00:00,  4.17it/s]\n"
     ]
    },
    {
     "name": "stdout",
     "output_type": "stream",
     "text": [
      "Epoch: 11 generators loss: 2.2262773525714876 discriminators loss: 0.312338212095201\n"
     ]
    },
    {
     "name": "stderr",
     "output_type": "stream",
     "text": [
      "100%|█████████████████████████████████████████████████████████████████████████████████| 400/400 [01:37<00:00,  4.12it/s]\n"
     ]
    },
    {
     "name": "stdout",
     "output_type": "stream",
     "text": [
      "Epoch: 12 generators loss: 2.194823996126652 discriminators loss: 0.3134827985242009\n"
     ]
    },
    {
     "name": "stderr",
     "output_type": "stream",
     "text": [
      "100%|█████████████████████████████████████████████████████████████████████████████████| 400/400 [01:35<00:00,  4.20it/s]\n"
     ]
    },
    {
     "name": "stdout",
     "output_type": "stream",
     "text": [
      "Epoch: 13 generators loss: 2.17890978038311 discriminators loss: 0.3165985673666\n"
     ]
    },
    {
     "name": "stderr",
     "output_type": "stream",
     "text": [
      "100%|█████████████████████████████████████████████████████████████████████████████████| 400/400 [01:33<00:00,  4.29it/s]\n"
     ]
    },
    {
     "name": "stdout",
     "output_type": "stream",
     "text": [
      "Epoch: 14 generators loss: 2.1771991819143297 discriminators loss: 0.3147988158091903\n"
     ]
    },
    {
     "name": "stderr",
     "output_type": "stream",
     "text": [
      "100%|█████████████████████████████████████████████████████████████████████████████████| 400/400 [01:37<00:00,  4.10it/s]\n"
     ]
    },
    {
     "name": "stdout",
     "output_type": "stream",
     "text": [
      "Epoch: 15 generators loss: 2.144028995037079 discriminators loss: 0.3213808362931013\n"
     ]
    },
    {
     "name": "stderr",
     "output_type": "stream",
     "text": [
      "100%|█████████████████████████████████████████████████████████████████████████████████| 400/400 [01:36<00:00,  4.13it/s]\n"
     ]
    },
    {
     "name": "stdout",
     "output_type": "stream",
     "text": [
      "Epoch: 16 generators loss: 2.1583933195471765 discriminators loss: 0.3105194813013077\n"
     ]
    },
    {
     "name": "stderr",
     "output_type": "stream",
     "text": [
      "100%|█████████████████████████████████████████████████████████████████████████████████| 400/400 [01:35<00:00,  4.18it/s]\n"
     ]
    },
    {
     "name": "stdout",
     "output_type": "stream",
     "text": [
      "Epoch: 17 generators loss: 2.151507220566273 discriminators loss: 0.3095408868603408\n"
     ]
    },
    {
     "name": "stderr",
     "output_type": "stream",
     "text": [
      "100%|█████████████████████████████████████████████████████████████████████████████████| 400/400 [01:32<00:00,  4.34it/s]\n"
     ]
    },
    {
     "name": "stdout",
     "output_type": "stream",
     "text": [
      "Epoch: 18 generators loss: 2.1189163652062417 discriminators loss: 0.31286070346832273\n"
     ]
    },
    {
     "name": "stderr",
     "output_type": "stream",
     "text": [
      "100%|█████████████████████████████████████████████████████████████████████████████████| 400/400 [01:35<00:00,  4.20it/s]\n"
     ]
    },
    {
     "name": "stdout",
     "output_type": "stream",
     "text": [
      "Epoch: 19 generators loss: 2.1368877777457236 discriminators loss: 0.30927706867456434\n"
     ]
    },
    {
     "name": "stderr",
     "output_type": "stream",
     "text": [
      "100%|█████████████████████████████████████████████████████████████████████████████████| 400/400 [01:34<00:00,  4.25it/s]\n"
     ]
    },
    {
     "name": "stdout",
     "output_type": "stream",
     "text": [
      "Epoch: 20 generators loss: 2.103707265853882 discriminators loss: 0.31432277416810395\n"
     ]
    },
    {
     "name": "stderr",
     "output_type": "stream",
     "text": [
      "100%|█████████████████████████████████████████████████████████████████████████████████| 400/400 [01:28<00:00,  4.50it/s]\n"
     ]
    },
    {
     "name": "stdout",
     "output_type": "stream",
     "text": [
      "Epoch: 21 generators loss: 2.1264209115505217 discriminators loss: 0.3025451753474772\n"
     ]
    },
    {
     "name": "stderr",
     "output_type": "stream",
     "text": [
      "100%|█████████████████████████████████████████████████████████████████████████████████| 400/400 [01:38<00:00,  4.05it/s]\n"
     ]
    },
    {
     "name": "stdout",
     "output_type": "stream",
     "text": [
      "Epoch: 22 generators loss: 2.13093146532774 discriminators loss: 0.2975926920026541\n"
     ]
    },
    {
     "name": "stderr",
     "output_type": "stream",
     "text": [
      "100%|█████████████████████████████████████████████████████████████████████████████████| 400/400 [01:32<00:00,  4.31it/s]\n"
     ]
    },
    {
     "name": "stdout",
     "output_type": "stream",
     "text": [
      "Epoch: 23 generators loss: 2.127977164685726 discriminators loss: 0.29147438300773504\n"
     ]
    },
    {
     "name": "stderr",
     "output_type": "stream",
     "text": [
      "100%|█████████████████████████████████████████████████████████████████████████████████| 400/400 [01:34<00:00,  4.23it/s]\n"
     ]
    },
    {
     "name": "stdout",
     "output_type": "stream",
     "text": [
      "Epoch: 24 generators loss: 2.089751688838005 discriminators loss: 0.29995652981102466\n"
     ]
    },
    {
     "name": "stderr",
     "output_type": "stream",
     "text": [
      "100%|█████████████████████████████████████████████████████████████████████████████████| 400/400 [01:33<00:00,  4.28it/s]\n"
     ]
    },
    {
     "name": "stdout",
     "output_type": "stream",
     "text": [
      "Epoch: 25 generators loss: 2.0940506628155706 discriminators loss: 0.2980137595161796\n"
     ]
    },
    {
     "name": "stderr",
     "output_type": "stream",
     "text": [
      "100%|█████████████████████████████████████████████████████████████████████████████████| 400/400 [01:39<00:00,  4.01it/s]\n"
     ]
    },
    {
     "name": "stdout",
     "output_type": "stream",
     "text": [
      "Epoch: 26 generators loss: 2.099101981818676 discriminators loss: 0.29560645824298265\n"
     ]
    },
    {
     "name": "stderr",
     "output_type": "stream",
     "text": [
      "100%|█████████████████████████████████████████████████████████████████████████████████| 400/400 [02:01<00:00,  3.28it/s]\n"
     ]
    },
    {
     "name": "stdout",
     "output_type": "stream",
     "text": [
      "Epoch: 27 generators loss: 2.1322277864813803 discriminators loss: 0.28363443721085785\n"
     ]
    },
    {
     "name": "stderr",
     "output_type": "stream",
     "text": [
      "100%|█████████████████████████████████████████████████████████████████████████████████| 400/400 [01:38<00:00,  4.07it/s]\n"
     ]
    },
    {
     "name": "stdout",
     "output_type": "stream",
     "text": [
      "Epoch: 28 generators loss: 2.096635738313198 discriminators loss: 0.2922184557467699\n"
     ]
    },
    {
     "name": "stderr",
     "output_type": "stream",
     "text": [
      "100%|█████████████████████████████████████████████████████████████████████████████████| 400/400 [01:29<00:00,  4.47it/s]\n"
     ]
    },
    {
     "name": "stdout",
     "output_type": "stream",
     "text": [
      "Epoch: 29 generators loss: 2.0835605806112287 discriminators loss: 0.29551986254751683\n"
     ]
    },
    {
     "name": "stderr",
     "output_type": "stream",
     "text": [
      "100%|█████████████████████████████████████████████████████████████████████████████████| 400/400 [01:30<00:00,  4.42it/s]\n"
     ]
    },
    {
     "name": "stdout",
     "output_type": "stream",
     "text": [
      "Epoch: 30 generators loss: 2.068338131904602 discriminators loss: 0.29496797792613505\n"
     ]
    },
    {
     "name": "stderr",
     "output_type": "stream",
     "text": [
      "100%|█████████████████████████████████████████████████████████████████████████████████| 400/400 [01:42<00:00,  3.90it/s]\n"
     ]
    },
    {
     "name": "stdout",
     "output_type": "stream",
     "text": [
      "Epoch: 31 generators loss: 2.064625315666199 discriminators loss: 0.2986093032360077\n"
     ]
    },
    {
     "name": "stderr",
     "output_type": "stream",
     "text": [
      "100%|█████████████████████████████████████████████████████████████████████████████████| 400/400 [01:46<00:00,  3.75it/s]\n"
     ]
    },
    {
     "name": "stdout",
     "output_type": "stream",
     "text": [
      "Epoch: 32 generators loss: 2.0735966303944586 discriminators loss: 0.2965363108180463\n"
     ]
    },
    {
     "name": "stderr",
     "output_type": "stream",
     "text": [
      "100%|█████████████████████████████████████████████████████████████████████████████████| 400/400 [03:37<00:00,  1.84it/s]\n"
     ]
    },
    {
     "name": "stdout",
     "output_type": "stream",
     "text": [
      "Epoch: 33 generators loss: 2.065668554902077 discriminators loss: 0.2926729346625507\n"
     ]
    },
    {
     "name": "stderr",
     "output_type": "stream",
     "text": [
      "100%|█████████████████████████████████████████████████████████████████████████████████| 400/400 [03:47<00:00,  1.76it/s]\n"
     ]
    },
    {
     "name": "stdout",
     "output_type": "stream",
     "text": [
      "Epoch: 34 generators loss: 2.0999893030524253 discriminators loss: 0.28903701558709144\n"
     ]
    },
    {
     "name": "stderr",
     "output_type": "stream",
     "text": [
      "100%|█████████████████████████████████████████████████████████████████████████████████| 400/400 [03:35<00:00,  1.86it/s]\n"
     ]
    },
    {
     "name": "stdout",
     "output_type": "stream",
     "text": [
      "Epoch: 35 generators loss: 2.0595540967583656 discriminators loss: 0.2956176806055009\n"
     ]
    },
    {
     "name": "stderr",
     "output_type": "stream",
     "text": [
      "100%|█████████████████████████████████████████████████████████████████████████████████| 400/400 [04:34<00:00,  1.46it/s]\n"
     ]
    },
    {
     "name": "stdout",
     "output_type": "stream",
     "text": [
      "Epoch: 36 generators loss: 2.0491075763106346 discriminators loss: 0.29413580387830734\n"
     ]
    },
    {
     "name": "stderr",
     "output_type": "stream",
     "text": [
      "100%|█████████████████████████████████████████████████████████████████████████████████| 400/400 [03:56<00:00,  1.69it/s]\n"
     ]
    },
    {
     "name": "stdout",
     "output_type": "stream",
     "text": [
      "Epoch: 37 generators loss: 2.060683910548687 discriminators loss: 0.2839814182184637\n"
     ]
    },
    {
     "name": "stderr",
     "output_type": "stream",
     "text": [
      "100%|█████████████████████████████████████████████████████████████████████████████████| 400/400 [03:36<00:00,  1.85it/s]\n"
     ]
    },
    {
     "name": "stdout",
     "output_type": "stream",
     "text": [
      "Epoch: 38 generators loss: 2.0821841192245483 discriminators loss: 0.2805484241247177\n"
     ]
    },
    {
     "name": "stderr",
     "output_type": "stream",
     "text": [
      "100%|█████████████████████████████████████████████████████████████████████████████████| 400/400 [03:26<00:00,  1.93it/s]\n"
     ]
    },
    {
     "name": "stdout",
     "output_type": "stream",
     "text": [
      "Epoch: 39 generators loss: 2.042226146757603 discriminators loss: 0.29049825213849545\n"
     ]
    },
    {
     "name": "stderr",
     "output_type": "stream",
     "text": [
      "100%|█████████████████████████████████████████████████████████████████████████████████| 400/400 [03:07<00:00,  2.13it/s]\n"
     ]
    },
    {
     "name": "stdout",
     "output_type": "stream",
     "text": [
      "Epoch: 40 generators loss: 2.075705952644348 discriminators loss: 0.2848688365332782\n"
     ]
    },
    {
     "name": "stderr",
     "output_type": "stream",
     "text": [
      " 52%|██████████████████████████████████████████                                       | 208/400 [01:50<01:52,  1.70it/s]"
     ]
    }
   ],
   "source": [
    "# Setup.\n",
    "device = ('cuda' if torch.cuda.is_available() else 'cpu')\n",
    "learning_rate = 1e-5\n",
    "lambda_cycle = 10\n",
    "epochs = 100\n",
    "\n",
    "print('Starting training', device, 'was selected for training')\n",
    "\n",
    "# X -> Facade Segmentation\n",
    "# Y -> Real facade image\n",
    "generator_x = Generator(img_channels=3, num_residuals=9).to(device)\n",
    "discriminator_x = Discriminator(in_channels=3).to(device)\n",
    "generator_y = Generator(img_channels=3, num_residuals=9).to(device)\n",
    "discriminator_y = Discriminator(in_channels=3).to(device)\n",
    "\n",
    "optimiser_generator = torch.optim.Adam(\n",
    "    list(generator_x.parameters()) + list(generator_y.parameters()),\n",
    "    lr=learning_rate,\n",
    "    betas=(0.5, 0.999),\n",
    ")\n",
    "\n",
    "optimiser_discriminator = torch.optim.Adam(\n",
    "    list(discriminator_x.parameters()) + list(discriminator_y.parameters()),\n",
    "    lr=learning_rate,\n",
    "    betas=(0.5, 0.999),\n",
    ")\n",
    "\n",
    "l1_loss_function = nn.L1Loss()\n",
    "mse_loss_function = nn.MSELoss()\n",
    "\n",
    "generators_history = []\n",
    "discriminators_history = []\n",
    "\n",
    "for epoch in range(epochs):\n",
    "    g_loss, d_loss = train_one_epoch(\n",
    "        train_dataloader,\n",
    "        generator_x,\n",
    "        discriminator_x,\n",
    "        generator_y,\n",
    "        discriminator_y,\n",
    "        optimiser_generator,\n",
    "        optimiser_discriminator,\n",
    "        l1_loss_function, \n",
    "        mse_loss_function,\n",
    "        lambda_cycle,\n",
    "        device)\n",
    "\n",
    "    generators_history.append(g_loss)\n",
    "    discriminators_history.append(d_loss)\n",
    "\n",
    "    print('Epoch:', epoch, 'generators loss:', g_loss, 'discriminators loss:', d_loss)\n",
    "\n",
    "    weights_dir = os.path.join('out', 'weights', 'cyclegan')\n",
    "    os.makedirs(weights_dir, exist_ok=True)\n",
    "\n",
    "    torch.save(generator_x.state_dict(), os.path.join(weights_dir, f\"generator-x-{epoch:03d}-{g_loss:.3f}.pt\"))\n",
    "    torch.save(discriminator_x.state_dict(), os.path.join(weights_dir, f\"discriminator-x-{epoch:03d}-{d_loss:.3f}.pt\"))\n",
    "    torch.save(generator_y.state_dict(), os.path.join(weights_dir, f\"generator-y-{epoch:03d}-{g_loss:.3f}.pt\"))\n",
    "    torch.save(discriminator_y.state_dict(), os.path.join(weights_dir, f\"discriminator-y-{epoch:03d}-{d_loss:.3f}.pt\"))"
   ]
  },
  {
   "cell_type": "code",
   "execution_count": null,
   "id": "df23074d-2434-4dc1-bbb0-e005409fe9be",
   "metadata": {},
   "outputs": [],
   "source": [
    "fig, ax = plt.subplots(nrows=1, ncols=2, figsize=(10, 10))\n",
    "\n",
    "ax[0].set_title(\"Generators loss history\")\n",
    "ax[0].plot(generators_history)\n",
    "\n",
    "ax[1].set_title(\"Discriminators loss history\")\n",
    "ax[1].plot(discriminators_history)\n",
    "\n",
    "plt.tight_layout()\n",
    "plt.show()"
   ]
  }
 ],
 "metadata": {
  "kernelspec": {
   "display_name": "Python 3 (ipykernel)",
   "language": "python",
   "name": "python3"
  },
  "language_info": {
   "codemirror_mode": {
    "name": "ipython",
    "version": 3
   },
   "file_extension": ".py",
   "mimetype": "text/x-python",
   "name": "python",
   "nbconvert_exporter": "python",
   "pygments_lexer": "ipython3",
   "version": "3.10.12"
  }
 },
 "nbformat": 4,
 "nbformat_minor": 5
}
