{
 "cells": [
  {
   "cell_type": "code",
   "execution_count": null,
   "id": "1a8f55f9-893f-4d79-bf21-b71e8127df81",
   "metadata": {},
   "outputs": [],
   "source": [
    "# 3rd Party dependencies.\n",
    "import os\n",
    "import cv2\n",
    "import numpy as np\n",
    "import matplotlib.pyplot as plt\n",
    "import torch\n",
    "import torchvision.transforms.v2 as transforms\n",
    "\n",
    "from torch.utils.data import DataLoader\n",
    "from tqdm import tqdm\n",
    "\n",
    "# 1st Party dependencies.\n",
    "from dataset.facades_dataset import FacadesDataset\n",
    "from pix2pix.generator import Generator, GeneratorLoss\n",
    "from pix2pix.discriminator import Discriminator, DiscriminatorLoss\n",
    "\n",
    "%matplotlib inline"
   ]
  },
  {
   "cell_type": "code",
   "execution_count": null,
   "id": "f3bc53d9-9289-4877-ba5a-e0a70008850d",
   "metadata": {},
   "outputs": [],
   "source": [
    "def visualise_models_comparison(pix2pix_model, cyclegan_model, images):\n",
    "    figure, axes = plt.subplots(nrows=len(images), ncols=3, figsize=(10, 10))\n",
    "    \n",
    "    for i, idx in enumerate(indexes):\n",
    "        image, label = dataset[idx]\n",
    "\n",
    "        input = torch.tensor(np.expand_dims(label, 0))\n",
    "        fake = generator_model(input)\n",
    "        fake = fake.detach().numpy()\n",
    "\n",
    "        fake = np.transpose(fake[0], (1,2,0))\n",
    "        image = np.transpose(image.numpy(), (1,2,0))\n",
    "        label = np.transpose(label.numpy(), (1,2,0))\n",
    "\n",
    "        axes[i, 0].imshow(cv2.cvtColor(label, cv2.COLOR_BGR2RGB))\n",
    "        axes[i, 1].imshow(cv2.cvtColor(image, cv2.COLOR_BGR2RGB))\n",
    "        axes[i, 2].imshow(cv2.cvtColor(fake, cv2.COLOR_BGR2RGB))\n",
    "\n",
    "    column_names = [ 'Segmentation', 'Pix2Pix Generation', 'CycleGAN Generation' ]\n",
    "    for i, ax in enumerate(axes.flatten()[:2]):\n",
    "        ax.axis('off')\n",
    "        ax.set_title(column_names[i], fontweight='bold')\n",
    "\n",
    "    fig.subplots_adjust(hspace=0.5, bottom=0.1)\n",
    "    plt.tight_layout(pad=1)\n",
    "    plt.show()    "
   ]
  }
 ],
 "metadata": {
  "kernelspec": {
   "display_name": "Python 3 (ipykernel)",
   "language": "python",
   "name": "python3"
  },
  "language_info": {
   "codemirror_mode": {
    "name": "ipython",
    "version": 3
   },
   "file_extension": ".py",
   "mimetype": "text/x-python",
   "name": "python",
   "nbconvert_exporter": "python",
   "pygments_lexer": "ipython3",
   "version": "3.10.12"
  }
 },
 "nbformat": 4,
 "nbformat_minor": 5
}
